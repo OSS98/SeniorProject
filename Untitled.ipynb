{
 "cells": [
  {
   "cell_type": "code",
   "execution_count": null,
   "metadata": {},
   "outputs": [
    {
     "name": "stdout",
     "output_type": "stream",
     "text": [
      " * Serving Flask app \"__main__\" (lazy loading)\n",
      " * Environment: production\n",
      "   WARNING: This is a development server. Do not use it in a production deployment.\n",
      "   Use a production WSGI server instead.\n",
      " * Debug mode: off\n"
     ]
    },
    {
     "name": "stderr",
     "output_type": "stream",
     "text": [
      " * Running on http://127.0.0.1:80/ (Press CTRL+C to quit)\n",
      "127.0.0.1 - - [20/Jul/2020 21:45:20] \"\u001b[37mGET / HTTP/1.1\u001b[0m\" 200 -\n",
      "127.0.0.1 - - [20/Jul/2020 21:45:28] \"\u001b[37mGET /main?token=247327218-2Y9OmrkjTGBtyKv91zJl7ljwPeEUhkDJIC2lxMnB&secret=Ygy2CPjPaOY3P88UFbmazzNzRU60CviTsJe99VPvlWnBF HTTP/1.1\u001b[0m\" 200 -\n"
     ]
    },
    {
     "name": "stdout",
     "output_type": "stream",
     "text": [
      "token : 247327218-2Y9OmrkjTGBtyKv91zJl7ljwPeEUhkDJIC2lxMnB\n",
      "secret : Ygy2CPjPaOY3P88UFbmazzNzRU60CviTsJe99VPvlWnBF\n"
     ]
    }
   ],
   "source": [
    "from flask import Flask,request,render_template,url_for\n",
    "app = Flask(__name__) \n",
    "\n",
    "@app.route('/') \n",
    "def index():\n",
    "    return render_template('index.php')\n",
    "@app.route('/main')\n",
    "def main():\n",
    "    args = request.args\n",
    "    token = args['token']\n",
    "    secret = args['secret']\n",
    "    print(\"token : \"+token)\n",
    "    print(\"secret : \"+secret)\n",
    "    return render_template('main_site.php')\n",
    "# @app.route('/input') \n",
    "# def inputword():\n",
    "#     return render_template('input_bully.html')\n",
    "\n",
    "# @app.route('/input',methods=['GET', 'POST']) \n",
    "# def output_word():\n",
    "    \n",
    "#     if request.method == 'POST': \n",
    "#         bully = request.form.get('bully')\n",
    "#         Testinput = getinput(bully)\n",
    "#         output = Bully_model.predict_classes(Testinput)\n",
    "#         y = tweet(output,bully)\n",
    "#         return render_template('output_bully.html',show=output)\n",
    "#         if(y==0):\n",
    "#             return render_template('output_bully.html',show=\"ไม่เป็นคำบูลลี่ ทวีตสำเร็จ\")\n",
    "        \n",
    "#         elif(y==1):\n",
    "#             return render_template('output_bully.html',show=\"คำบูลลี่ประเภท การคุกคามและการป่วน(Harassment+Trolling)\")\n",
    "        \n",
    "#         elif(y==2):\n",
    "#             return render_template('output_bully.html',show=\"คำบูลลี่ประเภท การแฉ(Outing)\")\n",
    "        \n",
    "#         elif(y==3):\n",
    "#             return render_template('output_bully.html',show=\"คำบูลลี่ประเภทที่ การถูกโดดเดี่ยวและการโพสต์เพื่อบั่นทอนศักดิ์ศรี(Exclusion+Dissing)\")\n",
    "\n",
    "if __name__ == '__main__':\n",
    "    app.run(debug=False, port=80) "
   ]
  },
  {
   "cell_type": "code",
   "execution_count": null,
   "metadata": {},
   "outputs": [],
   "source": []
  },
  {
   "cell_type": "code",
   "execution_count": null,
   "metadata": {},
   "outputs": [],
   "source": []
  }
 ],
 "metadata": {
  "kernelspec": {
   "display_name": "Python 3",
   "language": "python",
   "name": "python3"
  },
  "language_info": {
   "codemirror_mode": {
    "name": "ipython",
    "version": 3
   },
   "file_extension": ".py",
   "mimetype": "text/x-python",
   "name": "python",
   "nbconvert_exporter": "python",
   "pygments_lexer": "ipython3",
   "version": "3.7.6"
  }
 },
 "nbformat": 4,
 "nbformat_minor": 4
}
