{
 "cells": [
  {
   "cell_type": "code",
   "execution_count": 12,
   "metadata": {
    "ExecuteTime": {
     "end_time": "2020-02-13T12:17:34.910574Z",
     "start_time": "2020-02-13T12:17:24.041131Z"
    }
   },
   "outputs": [],
   "source": [
    "import pandas as pd\n",
    "from datetime import datetime\n",
    "import tweepy\n",
    "import numpy as np\n",
    "import tensorflow as tf\n",
    "from pythainlp import word_tokenize\n",
    "# from pythainlp.corpus.common import thai_stopwords\n",
    "from sklearn.model_selection import train_test_split\n",
    "from keras.preprocessing.text import Tokenizer\n",
    "from keras.preprocessing.sequence import pad_sequences\n",
    "from keras.backend import clear_session"
   ]
  },
  {
   "cell_type": "code",
   "execution_count": 13,
   "metadata": {
    "ExecuteTime": {
     "end_time": "2020-02-13T12:17:34.954949Z",
     "start_time": "2020-02-13T12:17:34.921350Z"
    }
   },
   "outputs": [],
   "source": [
    "word = pd.read_csv('dict_file.csv')    \n",
    "    "
   ]
  },
  {
   "cell_type": "code",
   "execution_count": 14,
   "metadata": {
    "ExecuteTime": {
     "end_time": "2020-02-13T12:17:34.981194Z",
     "start_time": "2020-02-13T12:17:34.978204Z"
    }
   },
   "outputs": [],
   "source": [
    "# word"
   ]
  },
  {
   "cell_type": "code",
   "execution_count": 15,
   "metadata": {
    "ExecuteTime": {
     "end_time": "2020-02-13T12:17:36.288990Z",
     "start_time": "2020-02-13T12:17:34.997299Z"
    }
   },
   "outputs": [],
   "source": [
    "Bully_model = tf.keras.models.load_model('cnn&rnn_model.h5')\n"
   ]
  },
  {
   "cell_type": "code",
   "execution_count": 16,
   "metadata": {
    "ExecuteTime": {
     "end_time": "2020-02-13T12:17:36.309139Z",
     "start_time": "2020-02-13T12:17:36.303115Z"
    }
   },
   "outputs": [],
   "source": [
    "consumer_key = 'V6WhIk4MThLDHOZffp5ePjhxb'\n",
    "consumer_secret_key = '0mBgQEhDmlCJYFiEuzv49bwauCKzvBHh7yg2ph5QksMNxHTaOQ'\n",
    "\n",
    "def OAuth(token,secret_key): # send from user \n",
    "    try:\n",
    "        auth = tweepy.OAuthHandler(consumer_key , consumer_secret_key)\n",
    "        auth.set_access_token(token,secret_key)\n",
    "        return auth     \n",
    "    except Exception as e:\n",
    "        return none"
   ]
  },
  {
   "cell_type": "code",
   "execution_count": 17,
   "metadata": {
    "ExecuteTime": {
     "end_time": "2020-02-13T12:17:36.331534Z",
     "start_time": "2020-02-13T12:17:36.324569Z"
    }
   },
   "outputs": [],
   "source": [
    "\n",
    "\n",
    "def tweet(text,from_web_token,from_web_secret_key):\n",
    "    oauth = OAuth(from_web_token,from_web_secret_key) \n",
    "    api = tweepy.API(oauth)\n",
    "    now = datetime.now()\n",
    "    time = now.strftime(\"%b_%d_%Y_%H_%M_%S\")\n",
    "    api.update_status(text+' #'+time)\n",
    "    return 'ทวีตได้ไม่มีปัญหาครับ'\n",
    "    \n",
    "\n",
    "def alert(list_index):\n",
    "    \n",
    "    if(len(list_index)==1):\n",
    "        if(list_index[0]==2):\n",
    "            alert_text = 'การแบ่งแยก/การกีดกัน (Exclusion)'\n",
    "        elif(list_index[0]==3):\n",
    "            alert_text = 'การขมขู่ (Harassment)'\n",
    "        elif(list_index[0]==4):\n",
    "            alert_text = 'การแฉ/การเปิดโปง (Revealing)'\n",
    "        elif(list_index[0]==5):\n",
    "            alert_text = 'การดูถูก /เหยียดหยาม (Dissing)'      \n",
    "        elif(list_index[0]==6):\n",
    "            alert_text = 'การหลอกลวง ,ก่อกวน (Trolling)'\n",
    "        return alert_text\n",
    "    else:\n",
    "        alert_text = 'เป็นการบูลลี่มากกว่าหนึ่งประเภท ได้แก่'\n",
    "        for x in list_index:\n",
    "            if(x == 2):\n",
    "                 alert_text = alert_text +  'การแบ่งแยก/การกีดกัน (Exclusion) และ'\n",
    "            elif(x == 3):\n",
    "                    alert_text =alert_text +  'การขมขู่ (Harassment) และ'\n",
    "            elif(x == 4):\n",
    "                    alert_text = alert_text + 'การแฉ/การเปิดโปง (Revealing) และ'\n",
    "            elif(x == 5):\n",
    "                    alert_text = alert_text + 'การดูถูก /เหยียดหยาม (Dissing) และ'\n",
    "            elif(x == 6):\n",
    "                    alert_text = alert_text + 'การหลอกลวง ,ก่อกวน (Trolling)'\n",
    "        return alert_text\n"
   ]
  },
  {
   "cell_type": "code",
   "execution_count": null,
   "metadata": {},
   "outputs": [],
   "source": []
  },
  {
   "cell_type": "code",
   "execution_count": 18,
   "metadata": {},
   "outputs": [],
   "source": [
    "def compare(predict_result):\n",
    "    \n",
    "    prepare_list_score = predict_result\n",
    "    all_score_list = []#ลิสต์ที่จะเอามารองรับตอนที่ทำเป็นเปอร์เซ็นต์\n",
    "    \n",
    "    for x in prepare_list_score:\n",
    "        all_score_list.append(x*100)#ทำให้เป็นเปอร์เซ็นต์จะได้เทียบง่ายๆ\n",
    "        \n",
    "    max_score_index = max(all_score_list) #ค่าที่มากที่สุดในลิสต์\n",
    "    score_for_output = []\n",
    "    count_index = 0\n",
    "    \n",
    "    for score_index in all_score_list:\n",
    "        \n",
    "        count_index+=1#เอามานับแทน indexof เพราะมันนับตำแหน่งของเลขซ้ำไม่ได้\n",
    "        \n",
    "        if(score_index >= max_score_index * (90/100)): #มากกว่าเท่ากับ 10% จะนับว่าเป็นคลาสนั้นด้วย \n",
    "            \n",
    "#             print(count_index)\n",
    "            score_for_output.append(count_index)#เอาตำแหน่งของคลาสมาแพ็คเก็บในลิสต์เตรียมส่งออก\n",
    "    \n",
    "    return score_for_output #สำหรับแสดงเป็นข้อความแจ้งเตือน ในนี้จะเป็นตำแหน่งของประเภทนั้นๆ"
   ]
  },
  {
   "cell_type": "code",
   "execution_count": 19,
   "metadata": {},
   "outputs": [],
   "source": [
    "# listmultilabel = [0.5,0.0,0.45,0.0,0.0,0.45]\n",
    "# compare(listmultilabel)"
   ]
  },
  {
   "cell_type": "code",
   "execution_count": 20,
   "metadata": {
    "ExecuteTime": {
     "end_time": "2020-02-13T12:17:36.353271Z",
     "start_time": "2020-02-13T12:17:36.345672Z"
    }
   },
   "outputs": [],
   "source": [
    "def getinput(train):\n",
    "    list_word = []\n",
    "    proc = word_tokenize(train, engine='newmm')\n",
    "    list_word.append(proc)\n",
    "    sequence = list()\n",
    "    for n in list_word:\n",
    "        sequenceTemp = list()\n",
    "        for w in n:\n",
    "            count=0\n",
    "            for x in word['Unnamed: 0']:\n",
    "                count=count+1\n",
    "                if x==w:\n",
    "                    sequenceTemp.append(count)\n",
    "        sequence.append(sequenceTemp)  \n",
    "    test = np.array(sequence)\n",
    "\n",
    "    testX = pad_sequences(test, maxlen=105, padding=\"post\")\n",
    "    return testX\n",
    "\n",
    "#def getinput(train):\n",
    " #   list_word = []\n",
    "  #  proc = word_tokenize(train, engine='newmm')\n",
    "   # comment=0\n",
    "    #comment = [words for words in proc if not words in set(thai_stopwords())]      \n",
    "    #list_word.append(comment)\n",
    "    #sequence = list()\n",
    "    #for n in list_word:\n",
    "     #   sequenceTemp = list()\n",
    "      #  for w in n:\n",
    "       #     count=0\n",
    "        #    for x in word['Unnamed: 0']:\n",
    "         #       count=count+1\n",
    "          #      if x==w:\n",
    "           #         sequenceTemp.append(count)\n",
    "        #sequence.append(sequenceTemp)  \n",
    "   # test = np.array(sequence)\n",
    "#     testX = pad_sequences(test, maxlen=18, padding=\"post\")\n",
    "   # testX = pad_sequences(test, maxlen=175, padding=\"post\")\n",
    "    #return testX"
   ]
  },
  {
   "cell_type": "code",
   "execution_count": 21,
   "metadata": {},
   "outputs": [],
   "source": [
    "def multiLabel(test):\n",
    "    ynew =Bully_model.predict(test)\n",
    "    all = ynew[0][0]+ynew[0][1]+ynew[0][2]+ynew[0][3]+ynew[0][4]+ynew[0][5]\n",
    "    max = np.amax(ynew[0])\n",
    "    min = np.amin(ynew[0])\n",
    "    convert = list()\n",
    "    for x in ynew[0]:\n",
    "        result = ((x - min)/100)*100\n",
    "        convert.append(format(float(result), 'f'))\n",
    "    return convert"
   ]
  },
  {
   "cell_type": "code",
   "execution_count": 22,
   "metadata": {},
   "outputs": [
    {
     "name": "stdout",
     "output_type": "stream",
     "text": [
      " * Serving Flask app \"__main__\" (lazy loading)\n",
      " * Environment: production\n",
      "   WARNING: This is a development server. Do not use it in a production deployment.\n",
      "   Use a production WSGI server instead.\n",
      " * Debug mode: off\n"
     ]
    },
    {
     "name": "stderr",
     "output_type": "stream",
     "text": [
      " * Running on http://127.0.0.1:80/ (Press CTRL+C to quit)\n",
      "127.0.0.1 - - [12/Aug/2020 17:49:46] \"\u001b[37mGET / HTTP/1.1\u001b[0m\" 200 -\n",
      "127.0.0.1 - - [12/Aug/2020 17:49:56] \"\u001b[37mGET /main?token=247327218-2Y9OmrkjTGBtyKv91zJl7ljwPeEUhkDJIC2lxMnB&secret=Ygy2CPjPaOY3P88UFbmazzNzRU60CviTsJe99VPvlWnBF&user=Ozone HTTP/1.1\u001b[0m\" 200 -\n"
     ]
    },
    {
     "name": "stdout",
     "output_type": "stream",
     "text": [
      "token : 247327218-2Y9OmrkjTGBtyKv91zJl7ljwPeEUhkDJIC2lxMnB\n",
      "secret : Ygy2CPjPaOY3P88UFbmazzNzRU60CviTsJe99VPvlWnBF\n",
      "username :Ozone\n",
      "[1]\n"
     ]
    },
    {
     "name": "stderr",
     "output_type": "stream",
     "text": [
      "127.0.0.1 - - [12/Aug/2020 17:49:59] \"\u001b[37mPOST /main HTTP/1.1\u001b[0m\" 200 -\n",
      "127.0.0.1 - - [12/Aug/2020 17:50:01] \"\u001b[37mGET /main_ HTTP/1.1\u001b[0m\" 200 -\n"
     ]
    },
    {
     "name": "stdout",
     "output_type": "stream",
     "text": [
      "[1]\n"
     ]
    },
    {
     "name": "stderr",
     "output_type": "stream",
     "text": [
      "127.0.0.1 - - [12/Aug/2020 17:50:08] \"\u001b[37mPOST /main HTTP/1.1\u001b[0m\" 200 -\n",
      "127.0.0.1 - - [12/Aug/2020 17:50:09] \"\u001b[37mGET /main_ HTTP/1.1\u001b[0m\" 200 -\n",
      "127.0.0.1 - - [12/Aug/2020 17:50:19] \"\u001b[37mPOST /main HTTP/1.1\u001b[0m\" 200 -\n"
     ]
    },
    {
     "name": "stdout",
     "output_type": "stream",
     "text": [
      "[6]\n"
     ]
    },
    {
     "name": "stderr",
     "output_type": "stream",
     "text": [
      "127.0.0.1 - - [12/Aug/2020 17:50:21] \"\u001b[37mGET /main_ HTTP/1.1\u001b[0m\" 200 -\n"
     ]
    }
   ],
   "source": [
    "import json\n",
    "from flask import Flask,request,render_template,url_for,jsonify\n",
    "app = Flask(__name__) \n",
    "\n",
    "@app.route('/') \n",
    "def index():\n",
    "    return render_template('index.php')\n",
    "\n",
    "@app.route('/main')\n",
    "def main():\n",
    "    args = request.args\n",
    "    global token,secret,username\n",
    "    token = args['token']\n",
    "    secret = args['secret']\n",
    "    username = args['user']\n",
    "#     pro_picture = args['profile_pic']\n",
    "    print(\"token : \"+token)\n",
    "    print(\"secret : \"+secret)\n",
    "    print(\"username :\"+username)\n",
    "#     print(\"picture :\"+pro_picture)\n",
    "    return render_template('main_site.php',show_name=username)\n",
    "#     return render_template('main_site.php',show_pic=pro_picture)\n",
    "\n",
    "@app.route('/main_')\n",
    "def main_():\n",
    "    return render_template('main_site.php',show_name=username)\n",
    "\n",
    "\n",
    "@app.route('/main',methods=['GET', 'POST']) \n",
    "def output_word():    \n",
    "    if request.method == 'POST': \n",
    "        bully = request.form.get('bully')\n",
    "        Testinput = getinput(bully)\n",
    "        output = Bully_model.predict(Testinput)\n",
    "        real_output = compare(output[0])\n",
    "        print(real_output)\n",
    "        if(len(real_output) == 1 and real_output[0] == 1):\n",
    "            return render_template('alert_succes.html',show=tweet(bully,token,secret))\n",
    "        else:\n",
    "            return render_template('alert_error.html',show=alert(real_output))\n",
    "\n",
    "\n",
    "@app.route('/api', methods=['GET', 'POST'])\n",
    "def my_json():\n",
    "    args = request.args\n",
    "    word = args['word']\n",
    "    Testinput = getinput(word)\n",
    "    output = Bully_model.predict(Testinput)\n",
    "    print(output)\n",
    "    score = {\n",
    "        \"word\" : word,\n",
    "        \"Bully type 1\" : json.dumps(str(output[0][0])),\n",
    "        \"Bully type 2\" : json.dumps(str(output[0][1])),\n",
    "        \"Bully type 3\" : json.dumps(str(output[0][2])),\n",
    "        \"Bully type 4\" : json.dumps(str(output[0][3])),\n",
    "        \"Bully type 5\" : json.dumps(str(output[0][4])),\n",
    "        \"Bully type 6\" : json.dumps(str(output[0][5])),\n",
    "    }\n",
    "    return jsonify(score)\n",
    "\n",
    "#Mark API อย่าลบนะ!\n",
    "@app.route('/api/input/<string:num>',methods=['GET']) \n",
    "def output_word2(num):\n",
    "        bully =num\n",
    "        Testinput = getinput(bully)\n",
    "        output = Bully_model.predict_classes(Testinput)\n",
    "        multilabel = multiLabel(Testinput)\n",
    "        #y = tweet(output,bully)\n",
    "        return jsonify({'Error': 0 , 'value 0' : multilabel[0]\n",
    "                            , 'value 1' : multilabel[1]\n",
    "                           , 'value 2' : multilabel[2]\n",
    "                           , 'value 3' : multilabel[3]\n",
    "                           , 'value 4' : multilabel[4]\n",
    "                           , 'value 5' : multilabel[5]})\n",
    " \n",
    "\n",
    "if __name__ == '__main__':\n",
    "#     app.run(host=\"0.0.0.0\",debug=False, port=5000) \n",
    "    app.run(debug=False, port=80) "
   ]
  },
  {
   "cell_type": "code",
   "execution_count": null,
   "metadata": {},
   "outputs": [],
   "source": []
  },
  {
   "cell_type": "code",
   "execution_count": null,
   "metadata": {},
   "outputs": [],
   "source": []
  }
 ],
 "metadata": {
  "kernelspec": {
   "display_name": "Python 3",
   "language": "python",
   "name": "python3"
  },
  "language_info": {
   "codemirror_mode": {
    "name": "ipython",
    "version": 3
   },
   "file_extension": ".py",
   "mimetype": "text/x-python",
   "name": "python",
   "nbconvert_exporter": "python",
   "pygments_lexer": "ipython3",
   "version": "3.8.5"
  },
  "toc": {
   "base_numbering": 1,
   "nav_menu": {},
   "number_sections": true,
   "sideBar": true,
   "skip_h1_title": false,
   "title_cell": "Table of Contents",
   "title_sidebar": "Contents",
   "toc_cell": false,
   "toc_position": {},
   "toc_section_display": true,
   "toc_window_display": false
  },
  "varInspector": {
   "cols": {
    "lenName": 16,
    "lenType": 16,
    "lenVar": 40
   },
   "kernels_config": {
    "python": {
     "delete_cmd_postfix": "",
     "delete_cmd_prefix": "del ",
     "library": "var_list.py",
     "varRefreshCmd": "print(var_dic_list())"
    },
    "r": {
     "delete_cmd_postfix": ") ",
     "delete_cmd_prefix": "rm(",
     "library": "var_list.r",
     "varRefreshCmd": "cat(var_dic_list()) "
    }
   },
   "types_to_exclude": [
    "module",
    "function",
    "builtin_function_or_method",
    "instance",
    "_Feature"
   ],
   "window_display": false
  }
 },
 "nbformat": 4,
 "nbformat_minor": 4
}
